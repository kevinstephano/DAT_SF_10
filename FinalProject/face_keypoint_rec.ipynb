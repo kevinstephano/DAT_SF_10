{
 "metadata": {
  "name": "",
  "signature": "sha256:de4fc7b70c588dd9dd04058dbba3e625485a37213cbb72b60e7dc478d411e9aa"
 },
 "nbformat": 3,
 "nbformat_minor": 0,
 "worksheets": [
  {
   "cells": [
    {
     "cell_type": "code",
     "collapsed": false,
     "input": [
      "import numpy as np\n",
      "import pandas as pd\n",
      "import math\n",
      "\n",
      "from matplotlib import pyplot as plt \n",
      "%matplotlib inline\n",
      "\n",
      "from sklearn.cross_validation import KFold\n",
      "from sklearn.metrics import roc_curve\n",
      "from sklearn import svm\n",
      "from sklearn.decomposition import PCA\n",
      "\n",
      "from sklearn.ensemble import RandomForestClassifier\n",
      "%matplotlib inline"
     ],
     "language": "python",
     "metadata": {},
     "outputs": [],
     "prompt_number": 1
    },
    {
     "cell_type": "code",
     "collapsed": false,
     "input": [
      "def cross_validate(X, y, classifier, k_fold) :\n",
      "\n",
      "    # derive a set of (random) training and testing indices\n",
      "    k_fold_indices = KFold(len(X), n_folds=k_fold,\n",
      "                           shuffle=True, random_state=0)\n",
      "\n",
      "    k_score_total = 0\n",
      "    # for each training and testing slices run the classifier, and score the results\n",
      "    for train_slice, test_slice in k_fold_indices :\n",
      "\n",
      "        model = classifier(X[ train_slice  ],\n",
      "                         y[ train_slice  ])\n",
      "\n",
      "        k_score = model.score(X[ test_slice ],\n",
      "                              y[ test_slice ])\n",
      "\n",
      "        k_score_total += k_score\n",
      "\n",
      "    # return the average accuracy\n",
      "    return k_score_total/k_fold"
     ],
     "language": "python",
     "metadata": {},
     "outputs": [],
     "prompt_number": 2
    },
    {
     "cell_type": "code",
     "collapsed": false,
     "input": [
      "from sklearn.metrics import mean_squared_error\n",
      "\n",
      "# Root Mean Squared Error\n",
      "def cross_validate_rmse(X, y, classifier, k_fold) :\n",
      "\n",
      "    # derive a set of (random) training and testing indices\n",
      "    k_fold_indices = KFold(len(X), n_folds=k_fold,\n",
      "                           shuffle=True, random_state=0)\n",
      "\n",
      "    k_score_total = 0\n",
      "    # for each training and testing slices run the classifier, and score the results\n",
      "    for train_slice, test_slice in k_fold_indices :\n",
      "\n",
      "        model     = classifier( X[ train_slice ], y[ train_slice ] )\n",
      "        y_predict = model.predict( X[ test_slice ] )\n",
      "        k_rmse    = math.sqrt( mean_squared_error( y[ test_slice ], y_predict ) / float(len(test_slice)))\n",
      "\n",
      "        k_score_total += k_rmse\n",
      "\n",
      "    # return the average rmse accuracy\n",
      "    return k_score_total/k_fold"
     ],
     "language": "python",
     "metadata": {},
     "outputs": [],
     "prompt_number": 3
    },
    {
     "cell_type": "code",
     "collapsed": false,
     "input": [
      "train_df = pd.read_csv(\"/Users/senatorned/DATA_SCIENCE/DAT10FinalProject/DataSets/training.csv\")\n",
      "#train_df = train_df.dropna()\n",
      "#train_df.info()\n",
      "#train_df.to_pickle(\"/Users/senatorned/DATA_SCIENCE/DAT10FinalProject/DataSets/training.pkl\")\n",
      "#test_df = pd.read_csv(\"/Users/senatorned/DATA_SCIENCE/DAT10FinalProject/DataSets/test.csv\")\n",
      "#test_df.to_pickle(\"/Users/senatorned/DATA_SCIENCE/DAT10FinalProject/DataSets/test.pkl\")"
     ],
     "language": "python",
     "metadata": {},
     "outputs": [],
     "prompt_number": 4
    },
    {
     "cell_type": "code",
     "collapsed": false,
     "input": [
      "new_train_df  = train_df['Image'].apply( lambda x: np.fromstring(x, dtype=int, count=-1, sep=' ') )\n",
      "train_images  = new_train_df.as_matrix()\n",
      "train_data    = train_df.drop('Image', 1)\n",
      "mean_data     = train_data.mean()\n",
      "mean_data_mat = mean_data.as_matrix()\n",
      "#count = 0\n",
      "#for row in xrange(len(train_data)) :\n",
      "#    count += 1\n",
      "#    for col in xrange(len(train_data.iloc[row]) ) :\n",
      "#        if np.isnan(train_data.iloc[row,col]) :\n",
      "#            train_data.iloc[row,col] = mean_data_mat[col]\n",
      "            #print (\"{0}...{1}\".format(count,train_data.iloc[row,col]))"
     ],
     "language": "python",
     "metadata": {},
     "outputs": [],
     "prompt_number": 5
    },
    {
     "cell_type": "code",
     "collapsed": false,
     "input": [
      "num_folds = 10\n",
      "\n",
      "td_mat = train_data.as_matrix()\n",
      "\n",
      "# derive a set of (random) training and testing indices\n",
      "k_fold_indices = KFold(len(td_mat), n_folds=num_folds, shuffle=True, random_state=0)\n",
      "rmse_fold_total = 0.0\n",
      "for train_slice, test_slice in k_fold_indices :\n",
      "    mat_len = len(test_slice)\n",
      "    col_cnt = 0.0\n",
      "    k_local_mse = 0.0\n",
      "    rmse_total = 0.0\n",
      "    k_mse = 0.0\n",
      "    for x in test_slice:\n",
      "        #print (\"{0} .... {1}\\n\".format(td_mat[x,:], pred_data[x,:]))\n",
      "        #k_local_mse = 0\n",
      "        #col_cnt = 0.0\n",
      "        for y in xrange(0,4) :\n",
      "            #print y\n",
      "            if not np.isnan( td_mat[x, y] ) :\n",
      "                col_cnt += 1.0\n",
      "                k_local_mse += math.pow(mean_data_mat[y] - td_mat[x, y], 2 )\n",
      "        #if (col_cnt > 0 ) :\n",
      "        #    k_mse += ( k_local_mse / col_cnt )\n",
      "        #print (\"{0}\\n\".format(k_mse))\n",
      "    \n",
      "    rmse_total = math.sqrt( k_local_mse / col_cnt )\n",
      "    #rmse_total = math.sqrt( k_mse )\n",
      "    rmse_fold_total += rmse_total\n",
      "    print rmse_total\n",
      "    \n",
      "print (\"Mean fold: {0}\".format(rmse_fold_total / num_folds ))"
     ],
     "language": "python",
     "metadata": {},
     "outputs": [
      {
       "output_type": "stream",
       "stream": "stdout",
       "text": [
        "2.94519686677\n",
        "2.90227273576\n",
        "3.44996277742\n",
        "2.94076226072\n",
        "3.95146668307\n",
        "3.29997729918"
       ]
      },
      {
       "output_type": "stream",
       "stream": "stdout",
       "text": [
        "\n",
        "2.92133780997\n",
        "2.82223868236\n",
        "3.1977651864\n",
        "3.23604037139\n",
        "Mean fold: 3.1667020673\n"
       ]
      }
     ],
     "prompt_number": 17
    },
    {
     "cell_type": "code",
     "collapsed": false,
     "input": [
      "num_missing = 0\n",
      "rows_to_remove = []\n",
      "for x in xrange(len(td_mat)) :\n",
      "    for y in xrange(0,4) :\n",
      "        if np.isnan(td_mat[x,y]):\n",
      "            num_missing += 1\n",
      "            #print (\"{0},{1}\".format(x, y))\n",
      "            rows_to_remove.append(x)\n",
      "            break\n",
      "#print (\"Num missing: {0}\".format(num_missing))\n",
      "print rows_to_remove"
     ],
     "language": "python",
     "metadata": {},
     "outputs": [
      {
       "output_type": "stream",
       "stream": "stdout",
       "text": [
        "[1620, 1643, 1687, 1834, 1866, 1912, 1938, 2090, 2095, 2099, 2100, 2137, 2153, 2175, 2186, 2239]\n"
       ]
      }
     ],
     "prompt_number": 11
    },
    {
     "cell_type": "code",
     "collapsed": false,
     "input": [
      "train_data_matrix = np.delete(td_mat, rows_to_remove, 0)\n",
      "train_images_matrix = np.delete(train_images, rows_to_remove, 0)"
     ],
     "language": "python",
     "metadata": {},
     "outputs": [],
     "prompt_number": 8
    },
    {
     "cell_type": "code",
     "collapsed": false,
     "input": [
      "print len(train_data_matrix)\n",
      "print len(train_images_matrix)"
     ],
     "language": "python",
     "metadata": {},
     "outputs": [
      {
       "output_type": "stream",
       "stream": "stdout",
       "text": [
        "7033\n",
        "7033\n"
       ]
      }
     ],
     "prompt_number": 9
    },
    {
     "cell_type": "code",
     "collapsed": false,
     "input": [
      "left_eye_center = np.empty([7033], dtype=int)\n",
      "right_eye_center = np.empty([7033], dtype=int)\n",
      "for x in xrange( len( train_data_matrix ) ):\n",
      "    left_eye_center[x] = int(train_data_matrix[x,0] * 96 + train_data_matrix[x, 1])\n",
      "    right_eye_center[x] = int(train_data_matrix[x,2] * 96 + train_data_matrix[x, 3])\n",
      "    \n",
      "    "
     ],
     "language": "python",
     "metadata": {},
     "outputs": [],
     "prompt_number": 10
    },
    {
     "cell_type": "code",
     "collapsed": false,
     "input": [
      "print left_eye_center[:10]\n",
      "print right_eye_center[:10]\n",
      "print type(left_eye_center)"
     ],
     "language": "python",
     "metadata": {},
     "outputs": [
      {
       "output_type": "stream",
       "stream": "stdout",
       "text": [
        "[6378 6210 6280 6298 6445 6729 6190 6516 6351 6192]\n",
        "[2938 2908 3001 3111 3133 2839 2872 2857 2673 2867]\n",
        "<type 'numpy.ndarray'>\n"
       ]
      }
     ],
     "prompt_number": 11
    },
    {
     "cell_type": "code",
     "collapsed": false,
     "input": [
      "#image_array = 255 - train_images_matrix[0].reshape((96, 96)).astype('float')\n",
      "\n",
      "image_array = np.empty([96,96], dtype=float)\n",
      "image_array_int = np.empty ([96,96], dtype=np.uint8)\n",
      "print  len(train_images_matrix[0])\n",
      "print type(train_images_matrix[0])\n",
      "for pix in xrange( len(train_images_matrix[0]) ):\n",
      "    col = int( pix / 96 )\n",
      "    row = int( pix % 96 )\n",
      "    #print (\"{0},{1}\".format( row, col))\n",
      "    image_array[row, col] =  255 - float(train_images_matrix[7][pix])\n",
      "    image_array_int[row, col] = (np.uint8(train_images_matrix[7][pix]))\n",
      "    \n"
     ],
     "language": "python",
     "metadata": {},
     "outputs": [
      {
       "output_type": "stream",
       "stream": "stdout",
       "text": [
        "9216\n",
        "<type 'numpy.ndarray'>\n"
       ]
      }
     ],
     "prompt_number": 266
    },
    {
     "cell_type": "code",
     "collapsed": false,
     "input": [
      "import matplotlib\n",
      "print train_data_matrix[0,0:4]\n",
      "plt.imshow(image_array, cmap='Greys')\n",
      "plt.scatter(y=[66.03356391,30.22700752] , x=[39.00227368,36.4216782], c='r', s=20)\n",
      "plt.show()"
     ],
     "language": "python",
     "metadata": {},
     "outputs": [
      {
       "output_type": "stream",
       "stream": "stdout",
       "text": [
        "[ 66.03356391  39.00227368  30.22700752  36.4216782 ]\n"
       ]
      },
      {
       "metadata": {},
       "output_type": "display_data",
       "png": "[encoded data removed]",
       "text": [
        "<matplotlib.figure.Figure at 0x143ed4c10>"
       ]
      }
     ],
     "prompt_number": 267
    },
    {
     "cell_type": "code",
     "collapsed": false,
     "input": [
      "type(train_images_matrix)\n",
      "print ( len(train_images_matrix))\n",
      "print ( len(left_eye_center))\n",
      "print len( train_images_matrix[0] )\n",
      "print train_images_matrix\n",
      "print left_eye_center\n",
      "print type(train_images_matrix)\n",
      "train_images_matrix = np.array( train_images_matrix )\n",
      "print train_images_matrix\n",
      "new_matrix = np.empty([7033,9216], dtype=int)\n",
      "for x in xrange( len( new_matrix )):\n",
      "    for y in xrange ( len (new_matrix[x])):\n",
      "        new_matrix[x,y] = train_images_matrix[x][y]\n",
      "        \n",
      "print new_matrix[:5]"
     ],
     "language": "python",
     "metadata": {},
     "outputs": [
      {
       "output_type": "stream",
       "stream": "stdout",
       "text": [
        "7033\n",
        "7033\n",
        "9216\n",
        "[array([238, 236, 237, ...,  70,  75,  90])\n",
        " array([219, 215, 204, ...,   1,   1,   1])\n",
        " array([144, 142, 159, ...,  78,  78,  77]) ...,\n",
        " array([74, 74, 74, ..., 20, 20, 20])\n",
        " array([254, 254, 254, ..., 254, 254, 254])\n",
        " array([ 53,  62,  67, ..., 158, 158, 159])]\n",
        "[6378 6210 6280 ..., 6439 6852 6469]\n",
        "<type 'numpy.ndarray'>\n",
        "[array([238, 236, 237, ...,  70,  75,  90])\n",
        " array([219, 215, 204, ...,   1,   1,   1])\n",
        " array([144, 142, 159, ...,  78,  78,  77]) ...,\n",
        " array([74, 74, 74, ..., 20, 20, 20])\n",
        " array([254, 254, 254, ..., 254, 254, 254])\n",
        " array([ 53,  62,  67, ..., 158, 158, 159])]\n",
        "[[238 236 237 ...,  70  75  90]\n",
        " [219 215 204 ...,   1   1   1]\n",
        " [144 142 159 ...,  78  78  77]\n",
        " [193 192 193 ...,   1   1   1]\n",
        " [147 148 160 ..., 140 170 176]]"
       ]
      },
      {
       "output_type": "stream",
       "stream": "stdout",
       "text": [
        "\n"
       ]
      }
     ],
     "prompt_number": 14
    },
    {
     "cell_type": "code",
     "collapsed": false,
     "input": [
      "pca = PCA()\n",
      "pca_matrix = pca.fit_transform(new_matrix)"
     ],
     "language": "python",
     "metadata": {},
     "outputs": [],
     "prompt_number": 439
    },
    {
     "cell_type": "code",
     "collapsed": false,
     "input": [
      "np.save(\"/Users/senatorned/DATA_SCIENCE/DAT10FinalProject/DataSets/pca_matrix_images.npy\", pca_matrix )"
     ],
     "language": "python",
     "metadata": {},
     "outputs": [],
     "prompt_number": 458
    },
    {
     "cell_type": "code",
     "collapsed": false,
     "input": [
      "print pca.explained_variance_ratio_[0]\n",
      "print \n",
      "print len(pca.explained_variance_ratio_)\n",
      "print len(pca.components_[0])\n",
      "print pca.n_components_\n",
      "print pca_matrix[:2,:200]"
     ],
     "language": "python",
     "metadata": {},
     "outputs": [
      {
       "output_type": "stream",
       "stream": "stdout",
       "text": [
        "0.295098051194\n",
        "7033\n",
        "9216\n",
        "9216\n",
        "[[ -9.68651799e+02  -7.84969412e+02   4.11660485e+01   1.44304393e+03\n",
        "    5.67498196e+02   1.24676154e+03  -2.56215361e+02   9.57034362e+01\n",
        "   -2.60038704e+01   1.78953612e+03  -2.24412110e+02   4.23503897e+02\n",
        "   -3.85490012e+02   5.74489408e+02  -2.26976921e+02   6.08344302e+02\n",
        "   -9.45810503e+01   3.97643219e+02  -1.20881923e+03   4.69502207e+02\n",
        "   -3.56101057e+02   3.13583099e+02  -6.47398676e+01   2.29813130e+02\n",
        "   -2.49589477e+02   5.06636562e+02  -1.25315089e+02   2.57455328e+02\n",
        "   -2.76803541e+02   4.36073277e+01  -3.66175872e+02  -3.28051026e+01\n",
        "   -1.09932856e+02   4.61689317e+02   4.71199830e+00  -3.12047038e+02\n",
        "   -1.79080520e+02  -2.11036562e+02   1.28382534e+02  -2.65339161e+02\n",
        "    1.02189953e+01  -1.77378959e+02   9.04256292e+01  -5.44378817e+02\n",
        "    1.75905263e+02  -1.09374779e+02   3.74824866e+02  -6.99201772e+00\n",
        "    1.63551001e+02  -4.89374786e+01   5.79295262e+01  -1.25394245e+02\n",
        "    2.10389643e+02  -6.52562985e+01   1.13899273e+02  -1.55413326e+02\n",
        "    9.58072933e+01   7.42068469e+01  -7.03356741e+01   1.30101922e+02\n",
        "    2.66010037e+02  -4.03898593e+01  -6.32201637e-03   3.65538948e+00\n",
        "    5.95992629e+01  -1.19854728e+02   1.86529441e+02   6.34492324e+01\n",
        "   -4.51785976e+01  -1.67992678e+02   3.29767853e+02   5.09291688e+01\n",
        "    5.79234440e+01  -1.20395606e+02  -1.42385161e+01  -1.04036070e+02\n",
        "    4.38858977e+01   7.07899138e+01   2.48516498e+02  -2.23312716e+02\n",
        "   -8.63180781e+00   2.09287331e+02   4.92758846e+01  -6.66841992e-01\n",
        "   -6.06441556e+01  -4.77592539e+00  -2.99492945e+01   6.06882196e+01\n",
        "    6.22393195e+01   2.03125872e+02   1.49172097e+02  -1.37451416e+02\n",
        "   -2.52292842e+02   1.22228171e+02   1.36852456e+02  -2.08740340e+02\n",
        "    4.80655670e+01  -4.92980407e+01   3.39090325e+01  -2.21404612e+01\n",
        "    1.59341927e+02  -1.08995148e+02   8.46304380e+01  -2.08844985e+02\n",
        "    1.60673165e+02  -6.23629005e+01   5.23784103e+01  -8.29760549e+01\n",
        "    1.49329536e+02  -6.44256409e+01   2.71600880e+02  -4.32006885e+01\n",
        "    9.79267655e+00  -1.21672286e+02   1.49061618e+02  -6.04544817e+01\n",
        "    3.96406758e+01  -7.95389659e+01   1.99987066e+02  -1.19034094e+02\n",
        "   -5.74105461e+01   1.46358867e+02   3.56911478e+01  -6.07761451e+01\n",
        "    3.32050821e+01   1.39313716e+02  -7.49177772e+01  -6.63700488e+01\n",
        "    1.35273875e+00   2.88961850e+02  -2.80469894e+02   1.25801947e+02\n",
        "   -1.50011786e+02  -2.28858853e+01  -4.89597419e+01   8.29496090e+01\n",
        "    2.22668856e+02  -2.36746271e+02   2.68713694e+01   6.46134751e+01\n",
        "   -3.54118603e+01  -1.21253813e+02   8.26983623e+01   4.60683411e+00\n",
        "    1.59628058e+02  -4.90979204e+01  -9.45263946e+01   1.31593088e+02\n",
        "    5.71757240e+01  -1.05459241e+02  -5.79881024e+01  -5.07727739e+01\n",
        "   -9.38929942e+01   9.49190984e+01   7.87073748e+01  -1.43239925e+02\n",
        "   -3.67400033e+01  -9.40657082e+00   3.51448252e+01   8.83282292e+01\n",
        "   -4.32457164e+01  -1.20032722e+01  -6.22468561e+01  -8.39994397e+01\n",
        "    1.59453662e+02   3.18752985e+01   7.09681139e+01   9.79113592e-01\n",
        "   -2.69279021e+01  -7.97038324e+01  -6.10079212e+01   1.98641017e+01\n",
        "    3.10805369e+01   7.49734482e+01   9.82691464e+01  -1.47775915e+02\n",
        "   -1.74443912e+02   2.19561530e+01   1.14739378e+02   1.11821426e+02\n",
        "    1.70835629e+02  -7.07290384e+01  -2.55049654e+01  -1.50646415e+02\n",
        "    1.21339423e+02   6.87267526e+00   8.63277039e+01   1.78182230e+02\n",
        "   -3.37954158e+01  -2.94824002e+01  -1.01146297e+02   4.34903422e+01\n",
        "    8.84723277e+01   2.22170954e+01   8.13768695e+01   1.95290362e+01\n",
        "    9.28823404e+01  -6.41749338e+01  -6.08826980e+01  -1.22123248e+01]\n",
        " [ -4.92542672e+02  -1.86612101e+03  -4.27247473e+03   1.36947827e+03\n",
        "    1.55293624e+03  -2.63223712e+02   2.80236426e+02  -3.72659927e+02\n",
        "    4.15019876e+02   8.06707491e+02   6.16329945e+02  -6.27922271e+02\n",
        "   -2.92331239e+02  -1.84292308e+03  -5.48821365e+02  -6.37558078e+01\n",
        "   -1.74293137e+01  -2.56163449e+02  -5.09233793e+01   1.06179851e+03\n",
        "    4.86527620e+02   5.34950964e+02   4.34878323e+02  -6.36519051e+02\n",
        "   -6.98231133e+01   5.99986083e+01   5.96260908e+02  -5.22282698e+02\n",
        "    1.92332894e+02   3.54873198e+01   5.26378469e+02  -2.64848250e+02\n",
        "    6.37922257e+02  -1.06874248e+02   1.88693319e+02   2.55501393e+02\n",
        "   -4.11641969e+01   1.20554095e+02  -2.32398857e+02   3.42969851e+02\n",
        "    1.20671529e+02   1.61803219e+02   1.71298033e+02  -1.59451426e+02\n",
        "    1.32089861e+02   4.87704234e+02   7.18304987e+02   8.93093089e-01\n",
        "    3.93284650e+01   2.09741738e+02  -1.68454756e+02  -1.24596657e+02\n",
        "   -3.37246708e+01  -3.75593836e+02   1.67153201e+02  -1.14953180e+02\n",
        "    2.47343341e+02  -1.70859025e+02  -2.20612349e+02   1.24174112e+02\n",
        "    2.87689295e+02   2.40419046e+02   1.05954455e+02   1.97975905e+02\n",
        "    1.28522054e+02   2.19173015e+02   2.70132749e+02   3.22328282e+02\n",
        "   -3.84260283e+01   2.64236328e+02  -1.86798985e+02   5.03215159e+02\n",
        "    1.79142791e+01  -9.67550020e+01   7.39977961e+01  -8.22937081e+01\n",
        "   -6.77327431e+01  -2.38292032e+01   1.79107777e+02  -1.12628049e+02\n",
        "    1.44521880e+02  -5.78351499e+01  -1.33634203e+01   9.59201887e+01\n",
        "   -5.40267757e+01  -2.06689880e+02  -3.88073678e+01   1.65087808e+02\n",
        "   -2.60554908e+02  -9.80432734e+01   1.43688588e+02  -1.36383970e+02\n",
        "   -1.44371717e+02   2.40675638e+02   1.45885184e+02   4.31157998e+01\n",
        "   -4.27557718e+01   1.85476059e+01  -7.07556222e+01  -1.54440682e+02\n",
        "    3.22535031e-01   5.54491331e+01  -6.48751285e+01  -1.41475287e+02\n",
        "   -2.16339617e+00  -2.50807239e+02  -6.09101780e+01  -2.24644726e+02\n",
        "   -3.19367994e+02  -6.02444304e+01  -1.31548052e+02   3.87278282e+01\n",
        "    3.16623325e+01   6.31081021e+01  -1.14291620e+02  -1.08514291e+01\n",
        "    7.46283363e+01   9.50373603e+00   1.23384480e+02   6.01244340e+01\n",
        "    5.87122623e+01  -9.99567247e+00   4.15480466e+01  -2.41561947e+02\n",
        "    9.83654129e+00   1.50111134e+02   2.28692223e+02   5.69774673e+01\n",
        "    2.84614918e+01   8.08786055e+01   1.71603020e+02   4.42607886e+01\n",
        "    1.51568936e+02   3.89687008e+01   7.85267758e+01  -1.10828069e+02\n",
        "   -2.01333767e+02   6.14988853e+01  -1.23751217e+02  -4.61056971e+01\n",
        "   -5.16912841e+00   2.50956861e+02   1.17031882e+02  -8.47147827e+00\n",
        "    7.31835105e+01  -1.95334999e+01  -4.22860669e+00   2.54728453e+01\n",
        "   -1.65853198e+02   1.81199408e+02   2.52481775e+01   1.35204401e+02\n",
        "    1.15345064e+02   1.12143031e+02   3.59023858e+01  -1.28402113e+02\n",
        "    8.46369744e-01  -1.03376500e+01   3.67309720e+01  -1.72152142e+01\n",
        "    4.05729527e+01   1.44819994e+01   3.17643468e+01   8.92807516e+01\n",
        "    1.55960136e+02  -1.66114663e+02   2.47898844e+00   1.51904016e+02\n",
        "   -2.40425917e+00  -1.64681825e+01   8.11869088e+01   4.85784558e+01\n",
        "   -4.86971180e+01  -4.73819542e+01   9.50993870e+01  -3.37213820e+01\n",
        "   -3.87955614e+01   7.83766625e+01  -1.33096512e+02  -7.71479731e+01\n",
        "   -2.23762403e+01   1.54454133e+02  -8.80720074e+01   2.58705271e+01\n",
        "    1.06190396e+02  -7.72810910e+01   2.20242271e+01   1.16034383e+01\n",
        "   -5.29730073e+01   1.03982119e+02  -6.88645417e+01   7.47537730e+01\n",
        "   -1.37416229e+02   9.41909938e+01  -2.93127859e+01   1.28221489e+02\n",
        "   -5.50886537e+01  -5.72899766e+01   1.34312304e+02  -2.00842025e+01]]\n"
       ]
      }
     ],
     "prompt_number": 455
    },
    {
     "cell_type": "code",
     "collapsed": false,
     "input": [
      "print pca.explained_variance_ratio_"
     ],
     "language": "python",
     "metadata": {},
     "outputs": [
      {
       "ename": "NameError",
       "evalue": "name 'pca' is not defined",
       "output_type": "pyerr",
       "traceback": [
        "\u001b[0;31m---------------------------------------------------------------------------\u001b[0m\n\u001b[0;31mNameError\u001b[0m                                 Traceback (most recent call last)",
        "\u001b[0;32m<ipython-input-18-cba912fb9487>\u001b[0m in \u001b[0;36m<module>\u001b[0;34m()\u001b[0m\n\u001b[0;32m----> 1\u001b[0;31m \u001b[0;32mprint\u001b[0m \u001b[0mpca\u001b[0m\u001b[0;34m.\u001b[0m\u001b[0mexplained_variance_ratio_\u001b[0m\u001b[0;34m\u001b[0m\u001b[0m\n\u001b[0m",
        "\u001b[0;31mNameError\u001b[0m: name 'pca' is not defined"
       ]
      }
     ],
     "prompt_number": 18
    },
    {
     "cell_type": "code",
     "collapsed": false,
     "input": [
      "pca_matrix = np.load(\"/Users/senatorned/DATA_SCIENCE/DAT10FinalProject/DataSets/pca_matrix_images.npy\")"
     ],
     "language": "python",
     "metadata": {},
     "outputs": [],
     "prompt_number": 485
    },
    {
     "cell_type": "code",
     "collapsed": false,
     "input": [
      "model_svm = svm.SVC(C=1.0, kernel='linear').fit\n",
      "import time\n",
      "\n",
      "#t0 = time.time()\n",
      "#print cross_validate(pca_matrix[:,:1000], left_eye_center, model_svm, 10)\n",
      "t1 = time.time()\n",
      "print t1-t0\n",
      "print cross_validate_rmse(pca_matrix[:,:500], left_eye_center, model_svm, 5)\n",
      "t2 = time.time()\n",
      "print t2-t1"
     ],
     "language": "python",
     "metadata": {},
     "outputs": [
      {
       "output_type": "stream",
       "stream": "stdout",
       "text": [
        "9009.85484004\n",
        "9.0371086879"
       ]
      },
      {
       "output_type": "stream",
       "stream": "stdout",
       "text": [
        "\n",
        "384.152158022\n"
       ]
      }
     ],
     "prompt_number": 486
    },
    {
     "cell_type": "code",
     "collapsed": false,
     "input": [
      "t1 = time.time()\n",
      "print cross_validate_rmse(pca_matrix[:,:2000], left_eye_center, model_svm, 5)\n",
      "t2 = time.time()\n",
      "print t2-t1"
     ],
     "language": "python",
     "metadata": {},
     "outputs": [
      {
       "output_type": "stream",
       "stream": "stdout",
       "text": [
        "8.99974848023\n",
        "1000.37203097\n"
       ]
      }
     ],
     "prompt_number": 488
    },
    {
     "cell_type": "code",
     "collapsed": false,
     "input": [
      "t3 = time.time()\n",
      "print cross_validate_rmse(new_matrix, left_eye_center, model_svm, 10)\n",
      "t4 = time.time()\n",
      "print t4-t3"
     ],
     "language": "python",
     "metadata": {},
     "outputs": [
      {
       "ename": "KeyboardInterrupt",
       "evalue": "",
       "output_type": "pyerr",
       "traceback": [
        "\u001b[0;31m---------------------------------------------------------------------------\u001b[0m\n\u001b[0;31mKeyboardInterrupt\u001b[0m                         Traceback (most recent call last)",
        "\u001b[0;32m<ipython-input-466-ce7e731d2090>\u001b[0m in \u001b[0;36m<module>\u001b[0;34m()\u001b[0m\n\u001b[1;32m      1\u001b[0m \u001b[0mt3\u001b[0m \u001b[0;34m=\u001b[0m \u001b[0mtime\u001b[0m\u001b[0;34m.\u001b[0m\u001b[0mtime\u001b[0m\u001b[0;34m(\u001b[0m\u001b[0;34m)\u001b[0m\u001b[0;34m\u001b[0m\u001b[0m\n\u001b[0;32m----> 2\u001b[0;31m \u001b[0;32mprint\u001b[0m \u001b[0mcross_validate_rmse\u001b[0m\u001b[0;34m(\u001b[0m\u001b[0mnew_matrix\u001b[0m\u001b[0;34m,\u001b[0m \u001b[0mleft_eye_center\u001b[0m\u001b[0;34m,\u001b[0m \u001b[0mmodel_svm\u001b[0m\u001b[0;34m,\u001b[0m \u001b[0;36m10\u001b[0m\u001b[0;34m)\u001b[0m\u001b[0;34m\u001b[0m\u001b[0m\n\u001b[0m\u001b[1;32m      3\u001b[0m \u001b[0mt4\u001b[0m \u001b[0;34m=\u001b[0m \u001b[0mtime\u001b[0m\u001b[0;34m.\u001b[0m\u001b[0mtime\u001b[0m\u001b[0;34m(\u001b[0m\u001b[0;34m)\u001b[0m\u001b[0;34m\u001b[0m\u001b[0m\n\u001b[1;32m      4\u001b[0m \u001b[0;32mprint\u001b[0m \u001b[0mt4\u001b[0m\u001b[0;34m-\u001b[0m\u001b[0mt3\u001b[0m\u001b[0;34m\u001b[0m\u001b[0m\n",
        "\u001b[0;32m<ipython-input-464-f1fe18d8ec3c>\u001b[0m in \u001b[0;36mcross_validate_rmse\u001b[0;34m(X, y, classifier, k_fold)\u001b[0m\n\u001b[1;32m     12\u001b[0m     \u001b[0;32mfor\u001b[0m \u001b[0mtrain_slice\u001b[0m\u001b[0;34m,\u001b[0m \u001b[0mtest_slice\u001b[0m \u001b[0;32min\u001b[0m \u001b[0mk_fold_indices\u001b[0m \u001b[0;34m:\u001b[0m\u001b[0;34m\u001b[0m\u001b[0m\n\u001b[1;32m     13\u001b[0m \u001b[0;34m\u001b[0m\u001b[0m\n\u001b[0;32m---> 14\u001b[0;31m         \u001b[0mmodel\u001b[0m     \u001b[0;34m=\u001b[0m \u001b[0mclassifier\u001b[0m\u001b[0;34m(\u001b[0m \u001b[0mX\u001b[0m\u001b[0;34m[\u001b[0m \u001b[0mtrain_slice\u001b[0m \u001b[0;34m]\u001b[0m\u001b[0;34m,\u001b[0m \u001b[0my\u001b[0m\u001b[0;34m[\u001b[0m \u001b[0mtrain_slice\u001b[0m \u001b[0;34m]\u001b[0m \u001b[0;34m)\u001b[0m\u001b[0;34m\u001b[0m\u001b[0m\n\u001b[0m\u001b[1;32m     15\u001b[0m         \u001b[0my_predict\u001b[0m \u001b[0;34m=\u001b[0m \u001b[0mmodel\u001b[0m\u001b[0;34m.\u001b[0m\u001b[0mpredict\u001b[0m\u001b[0;34m(\u001b[0m \u001b[0mX\u001b[0m\u001b[0;34m[\u001b[0m \u001b[0mtest_slice\u001b[0m \u001b[0;34m]\u001b[0m \u001b[0;34m)\u001b[0m\u001b[0;34m\u001b[0m\u001b[0m\n\u001b[1;32m     16\u001b[0m         \u001b[0mk_rmse\u001b[0m    \u001b[0;34m=\u001b[0m \u001b[0mmath\u001b[0m\u001b[0;34m.\u001b[0m\u001b[0msqrt\u001b[0m\u001b[0;34m(\u001b[0m \u001b[0mmean_squared_error\u001b[0m\u001b[0;34m(\u001b[0m \u001b[0my\u001b[0m\u001b[0;34m[\u001b[0m \u001b[0mtest_slice\u001b[0m \u001b[0;34m]\u001b[0m\u001b[0;34m,\u001b[0m \u001b[0my_predict\u001b[0m \u001b[0;34m)\u001b[0m \u001b[0;34m/\u001b[0m \u001b[0mfloat\u001b[0m\u001b[0;34m(\u001b[0m\u001b[0mlen\u001b[0m\u001b[0;34m(\u001b[0m\u001b[0mtest_slice\u001b[0m\u001b[0;34m)\u001b[0m\u001b[0;34m)\u001b[0m\u001b[0;34m)\u001b[0m\u001b[0;34m\u001b[0m\u001b[0m\n",
        "\u001b[0;32m/Users/senatorned/anaconda/lib/python2.7/site-packages/sklearn/svm/base.pyc\u001b[0m in \u001b[0;36mfit\u001b[0;34m(self, X, y, sample_weight)\u001b[0m\n\u001b[1;32m    174\u001b[0m \u001b[0;34m\u001b[0m\u001b[0m\n\u001b[1;32m    175\u001b[0m         \u001b[0mseed\u001b[0m \u001b[0;34m=\u001b[0m \u001b[0mrnd\u001b[0m\u001b[0;34m.\u001b[0m\u001b[0mrandint\u001b[0m\u001b[0;34m(\u001b[0m\u001b[0mnp\u001b[0m\u001b[0;34m.\u001b[0m\u001b[0miinfo\u001b[0m\u001b[0;34m(\u001b[0m\u001b[0;34m'i'\u001b[0m\u001b[0;34m)\u001b[0m\u001b[0;34m.\u001b[0m\u001b[0mmax\u001b[0m\u001b[0;34m)\u001b[0m\u001b[0;34m\u001b[0m\u001b[0m\n\u001b[0;32m--> 176\u001b[0;31m         \u001b[0mfit\u001b[0m\u001b[0;34m(\u001b[0m\u001b[0mX\u001b[0m\u001b[0;34m,\u001b[0m \u001b[0my\u001b[0m\u001b[0;34m,\u001b[0m \u001b[0msample_weight\u001b[0m\u001b[0;34m,\u001b[0m \u001b[0msolver_type\u001b[0m\u001b[0;34m,\u001b[0m \u001b[0mkernel\u001b[0m\u001b[0;34m,\u001b[0m \u001b[0mrandom_seed\u001b[0m\u001b[0;34m=\u001b[0m\u001b[0mseed\u001b[0m\u001b[0;34m)\u001b[0m\u001b[0;34m\u001b[0m\u001b[0m\n\u001b[0m\u001b[1;32m    177\u001b[0m         \u001b[0;31m# see comment on the other call to np.iinfo in this file\u001b[0m\u001b[0;34m\u001b[0m\u001b[0;34m\u001b[0m\u001b[0m\n\u001b[1;32m    178\u001b[0m \u001b[0;34m\u001b[0m\u001b[0m\n",
        "\u001b[0;32m/Users/senatorned/anaconda/lib/python2.7/site-packages/sklearn/svm/base.pyc\u001b[0m in \u001b[0;36m_dense_fit\u001b[0;34m(self, X, y, sample_weight, solver_type, kernel, random_seed)\u001b[0m\n\u001b[1;32m    229\u001b[0m                 \u001b[0mcache_size\u001b[0m\u001b[0;34m=\u001b[0m\u001b[0mself\u001b[0m\u001b[0;34m.\u001b[0m\u001b[0mcache_size\u001b[0m\u001b[0;34m,\u001b[0m \u001b[0mcoef0\u001b[0m\u001b[0;34m=\u001b[0m\u001b[0mself\u001b[0m\u001b[0;34m.\u001b[0m\u001b[0mcoef0\u001b[0m\u001b[0;34m,\u001b[0m\u001b[0;34m\u001b[0m\u001b[0m\n\u001b[1;32m    230\u001b[0m                 \u001b[0mgamma\u001b[0m\u001b[0;34m=\u001b[0m\u001b[0mself\u001b[0m\u001b[0;34m.\u001b[0m\u001b[0m_gamma\u001b[0m\u001b[0;34m,\u001b[0m \u001b[0mepsilon\u001b[0m\u001b[0;34m=\u001b[0m\u001b[0mself\u001b[0m\u001b[0;34m.\u001b[0m\u001b[0mepsilon\u001b[0m\u001b[0;34m,\u001b[0m\u001b[0;34m\u001b[0m\u001b[0m\n\u001b[0;32m--> 231\u001b[0;31m                 max_iter=self.max_iter, random_seed=random_seed)\n\u001b[0m\u001b[1;32m    232\u001b[0m \u001b[0;34m\u001b[0m\u001b[0m\n\u001b[1;32m    233\u001b[0m         \u001b[0mself\u001b[0m\u001b[0;34m.\u001b[0m\u001b[0m_warn_from_fit_status\u001b[0m\u001b[0;34m(\u001b[0m\u001b[0;34m)\u001b[0m\u001b[0;34m\u001b[0m\u001b[0m\n",
        "\u001b[0;31mKeyboardInterrupt\u001b[0m: "
       ]
      }
     ],
     "prompt_number": 466
    },
    {
     "cell_type": "code",
     "collapsed": false,
     "input": [
      "import cv2\n",
      "import cv\n",
      "\n",
      "left_eye_classifier = cv2.CascadeClassifier('/usr/local/Cellar/opencv/2.4.9/share/OpenCV/haarcascades/haarcascade_mcs_mouth.xml')"
     ],
     "language": "python",
     "metadata": {},
     "outputs": [],
     "prompt_number": 271
    },
    {
     "cell_type": "code",
     "collapsed": false,
     "input": [
      "cv2.destroyWindow(\"Pic\")\n",
      "cv2.destroyWindow(\"Pic2\")\n",
      "cv2.destroyWindow(\"Video2\")\n",
      "cv2.destroyWindow(\"Video\")\n",
      "\n",
      "cv2.imshow(\"Pic\", image_array_int)\n",
      "crap = cv2.getRotationMatrix2D((48,48),270,1)\n",
      "img2 = cv2.warpAffine(image_array_int,crap,(96,96))\n",
      "cv2.imshow(\"Pic2\", img2)\n",
      "\n",
      "rect = left_eye_classifier.detectMultiScale(img2, scaleFactor=1.05, maxSize=(96,96))"
     ],
     "language": "python",
     "metadata": {},
     "outputs": [],
     "prompt_number": 272
    },
    {
     "cell_type": "code",
     "collapsed": false,
     "input": [
      "print rect\n",
      "print type(rect)\n",
      "\n",
      "for (x, y, w, h) in rect:\n",
      "        cv2.rectangle(img2, (x, y), (x+w, y+h), (0, 255, 0), 2)\n",
      "cv2.imshow('Video2', img2)\n",
      "cv2.imshow('Video', img2[rect[0,1]:(rect[0,1]+rect[0,3]),rect[0,0]:(rect[0,0]+rect[0,2])])\n"
     ],
     "language": "python",
     "metadata": {},
     "outputs": [
      {
       "output_type": "stream",
       "stream": "stdout",
       "text": [
        "[[ 8 25 40 24]\n",
        " [28 70 39 23]\n",
        " [10 27 75 45]]\n",
        "<type 'numpy.ndarray'>\n"
       ]
      }
     ],
     "prompt_number": 273
    },
    {
     "cell_type": "code",
     "collapsed": false,
     "input": [
      "print image_array_int"
     ],
     "language": "python",
     "metadata": {},
     "outputs": [
      {
       "output_type": "stream",
       "stream": "stdout",
       "text": [
        "[[ 26  27  26 ..., 105 110 111]\n",
        " [ 29  27  25 ...,  97 104 110]\n",
        " [ 27  25  27 ..., 102 101 104]\n",
        " ..., \n",
        " [133 133 131 ..., 104  98 139]\n",
        " [131 132 133 ..., 100 102 111]\n",
        " [131 132 135 ..., 101  99 102]]\n"
       ]
      }
     ],
     "prompt_number": 234
    },
    {
     "cell_type": "code",
     "collapsed": false,
     "input": [],
     "language": "python",
     "metadata": {},
     "outputs": []
    }
   ],
   "metadata": {}
  }
 ]
}