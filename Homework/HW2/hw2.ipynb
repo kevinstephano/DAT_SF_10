{
 "metadata": {
  "name": "",
  "signature": "sha256:2240922f4ba04f1efe0c253f89ec97e6526d12a56042dc3ad3ad5cdd3950801d"
 },
 "nbformat": 3,
 "nbformat_minor": 0,
 "worksheets": [
  {
   "cells": [
    {
     "cell_type": "code",
     "collapsed": false,
     "input": [
      "import csv\n",
      "\n",
      "iris_data                 = []\n",
      "iris_data_classifications = []\n",
      "\n",
      "with open( 'iris.csv', 'r' ) as iris_csv_file:\n",
      "    csv_lines = csv.reader( iris_csv_file, delimiter=',' )\n",
      "    for line in csv_lines :\n",
      "        if line : # check for non-empty line\n",
      "            iris_data_classifications.append( line[-1] )\n",
      "            iris_data.append( [ float(item) for item in line[:-1] ] )\n",
      "        \n",
      "# Show first 10 entries    \n",
      "for x in xrange(0,10) :\n",
      "    print( \"{0} --> {1}\".format( iris_data[x], iris_data_classifications[x] ) )"
     ],
     "language": "python",
     "metadata": {},
     "outputs": [
      {
       "output_type": "stream",
       "stream": "stdout",
       "text": [
        "[5.1, 3.5, 1.4, 0.2] --> Iris-setosa\n",
        "[4.9, 3.0, 1.4, 0.2] --> Iris-setosa\n",
        "[4.7, 3.2, 1.3, 0.2] --> Iris-setosa\n",
        "[4.6, 3.1, 1.5, 0.2] --> Iris-setosa\n",
        "[5.0, 3.6, 1.4, 0.2] --> Iris-setosa\n",
        "[5.4, 3.9, 1.7, 0.4] --> Iris-setosa\n",
        "[4.6, 3.4, 1.4, 0.3] --> Iris-setosa\n",
        "[5.0, 3.4, 1.5, 0.2] --> Iris-setosa\n",
        "[4.4, 2.9, 1.4, 0.2] --> Iris-setosa\n",
        "[4.9, 3.1, 1.5, 0.1] --> Iris-setosa\n"
       ]
      }
     ],
     "prompt_number": 23
    },
    {
     "cell_type": "code",
     "collapsed": false,
     "input": [
      "from sklearn.neighbors import KNeighborsClassifier\n",
      "from sklearn.cross_validation import KFold\n",
      "import numpy\n",
      "\n",
      "def KNearestNeighbors( neighbors, data, classifications ) :\n",
      "    k_nearest_neighbors = KNeighborsClassifier(n_neighbors=neighbors)\n",
      "    k_nearest_neighbors.fit(data, classifications)\n",
      "    return k_nearest_neighbors\n",
      "\n",
      "def CrossValidate( data, classifications, classifier_func, neighbors, k_folds ) :\n",
      "    k_fold_indices = KFold( len(data), n_folds=k_folds, shuffle=True, random_state=0)\n",
      "    \n",
      "    data_array            = numpy.array( data )\n",
      "    classifications_array = numpy.array( classifications )\n",
      "\n",
      "    k_score_total = 0\n",
      "    # for each training and testing slices run the classifier, and score the results\n",
      "    for train_slice, test_slice in k_fold_indices :\n",
      "        model = classifier_func( neighbors, data_array[ train_slice  ], classifications_array[ train_slice ] )\n",
      "        k_score = model.score( data_array[ test_slice ], classifications_array[ test_slice ] )\n",
      "        k_score_total += k_score\n",
      "\n",
      "    # return the average accuracy\n",
      "    return k_score_total/k_folds\n",
      "\n"
     ],
     "language": "python",
     "metadata": {},
     "outputs": [],
     "prompt_number": 71
    },
    {
     "cell_type": "code",
     "collapsed": false,
     "input": [
      "import operator\n",
      "\n",
      "# Over 120 neighbors seems to fail, maybe that number is too crazy\n",
      "neighbor_scores = {}\n",
      "# Making a map of \"Number of Neighbors\" to \"Cross Validation Score\"\n",
      "for n in xrange(1,121) :\n",
      "    neighbor_scores[n] = CrossValidate( iris_data, iris_data_classifications, KNearestNeighbors, n, 5 )\n",
      "\n",
      "# Sort map in order of best \"Cross Validation Score\" and only show the first 20 scores of 120\n",
      "sorted_neighbor_scores = sorted( neighbor_scores.items(), key=operator.itemgetter(1), reverse=True )\n",
      "for key,val in sorted_neighbor_scores[:20] :\n",
      "    print ( \"Neighbors: {0} Score: {1}\".format( key, val) )"
     ],
     "language": "python",
     "metadata": {},
     "outputs": [
      {
       "output_type": "stream",
       "stream": "stdout",
       "text": [
        "Neighbors: 11 Score: 0.966666666667\n",
        "Neighbors: 15 Score: 0.966666666667\n",
        "Neighbors: 1 Score: 0.96\n",
        "Neighbors: 4 Score: 0.96\n",
        "Neighbors: 5 Score: 0.96\n",
        "Neighbors: 8 Score: 0.96\n",
        "Neighbors: 9 Score: 0.96\n",
        "Neighbors: 10 Score: 0.96\n",
        "Neighbors: 12 Score: 0.96\n",
        "Neighbors: 13 Score: 0.96\n",
        "Neighbors: 3 Score: 0.953333333333\n",
        "Neighbors: 6 Score: 0.953333333333\n",
        "Neighbors: 7 Score: 0.953333333333\n",
        "Neighbors: 14 Score: 0.953333333333\n",
        "Neighbors: 22 Score: 0.953333333333\n",
        "Neighbors: 16 Score: 0.946666666667\n",
        "Neighbors: 17 Score: 0.946666666667\n",
        "Neighbors: 19 Score: 0.946666666667\n",
        "Neighbors: 20 Score: 0.946666666667\n",
        "Neighbors: 21 Score: 0.946666666667\n"
       ]
      }
     ],
     "prompt_number": 79
    },
    {
     "cell_type": "code",
     "collapsed": false,
     "input": [
      "from matplotlib import pyplot\n",
      "\n",
      "neighbor_scores_x = []\n",
      "neighbor_scores_y = []\n",
      "\n",
      "for key,val in sorted_neighbor_scores:\n",
      "    neighbor_scores_x.append( key )\n",
      "    neighbor_scores_y.append( val )\n",
      "    \n",
      "x_array = numpy.array( neighbor_scores_x )\n",
      "y_array = numpy.array( neighbor_scores_y )\n",
      "\n",
      "plot = pyplot.figure(0)\n",
      "scat = plot.add_subplot(1,1,1)\n",
      "scat.scatter(x_array, y_array)\n",
      "scat.set_xlabel(\"K Nearest Neighbors\", fontsize=8)\n",
      "scat.set_ylabel(\"Accuracy Score\", fontsize=8)\n",
      "pyplot.show()"
     ],
     "language": "python",
     "metadata": {},
     "outputs": []
    },
    {
     "cell_type": "raw",
     "metadata": {},
     "source": [
      "The graph seems to show that there are steps of accuracy.  For the number of neighbors between 0 to ~65, there is an accuracy greater than ~85%.  Past around ~65 there is a drop off where there is another shelf around 75 to 115 neighbors where the accurcy is around ~50%.  It is interesting to see the accuracy happen in steps, though, that must suggest something."
     ]
    }
   ],
   "metadata": {}
  }
 ]
}