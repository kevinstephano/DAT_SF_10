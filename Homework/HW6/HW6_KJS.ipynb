{
 "metadata": {
  "name": "",
  "signature": "sha256:f6e409d1efd8813a646c7f8ef83ee8624f9acd1e07edf2d649dbd2dbb453d852"
 },
 "nbformat": 3,
 "nbformat_minor": 0,
 "worksheets": [
  {
   "cells": [
    {
     "cell_type": "code",
     "collapsed": false,
     "input": [
      "import pandas as pd\n",
      "import numpy as np\n",
      "from matplotlib import pyplot as plt \n",
      "from sklearn.linear_model import LogisticRegression\n",
      "from sklearn.cross_validation import KFold\n",
      "from sklearn.metrics import roc_curve\n",
      "from sklearn.metrics import auc \n",
      "from sklearn.cross_validation import train_test_split\n",
      "from sklearn import preprocessing\n",
      "from sklearn import tree\n",
      "from sklearn.ensemble import RandomForestClassifier\n",
      "%matplotlib inline"
     ],
     "language": "python",
     "metadata": {},
     "outputs": [],
     "prompt_number": 1
    },
    {
     "cell_type": "code",
     "collapsed": false,
     "input": [
      "def turn_data_into_matrix( bank_df, add_set ) :\n",
      "\n",
      "    binary_list = ['y']\n",
      "    for label in binary_list:\n",
      "        bank_df[label][bank_df[label] == 'yes'] = 1\n",
      "        bank_df[label][bank_df[label] == 'no'] = 0\n",
      "\n",
      "    job_dict = { 'blue-collar' : 0, 'services' : 1, 'management' : 2, 'admin.' : 3,\n",
      "                 'unemployed' : 4, 'unknown' : 5, 'technician' : 6, 'retired' : 7,\n",
      "                 'entrepreneur' : 8, 'self-employed' : 9, 'housemaid' : 10, 'student' : 11,\n",
      "                 }\n",
      "    month_dict = { 'jan' : 1, 'feb' : 2, 'mar' :  3, 'apr' :  4, 'may' :  5, 'jun' : 6, 'jul' : 7,\n",
      "                   'aug' : 8, 'sep' : 9, 'oct' : 10, 'nov' : 11, 'dec' : 12}\n",
      "    marital_dict = { 'single' : 0, 'married' : 1, 'divorced' : 2, 'unknown' : 3}\n",
      "    contact_dict = { 'cellular' : 0, 'telephone' : 1, 'unknown' : 2 }\n",
      "    pout_dict =  { 'success' : 0, 'failure' : 1, 'unknown' : 2, 'other' : 3, \"nonexistent\" : 4 }\n",
      "    default_dict = { 'no' : 0, 'yes' : 1, 'unknown' : 2}\n",
      "    housing_dict = { 'no' : 0, 'yes' : 1, 'unknown' : 2}\n",
      "    loan_dict = { 'no' : 0, 'yes' : 1, 'unknown' : 2}\n",
      "\n",
      "    edu_dict = {}\n",
      "    dict_of_dicts = {}\n",
      "    if add_set:\n",
      "        edu_dict = {'basic.4y' : 0,'basic.6y' : 1,'basic.9y' : 2,'high.school' : 3,'illiterate' : 4,\n",
      "                    'professional.course' :5 ,'university.degree' : 6,'unknown' : 7}\n",
      "        day_dict = {'mon': 0,'tue':1,'wed':2,'thu':3,'fri':4}\n",
      "        dict_of_dicts = { 'job' : job_dict, 'month' : month_dict, 'marital' : marital_dict,\n",
      "                          'education' : edu_dict, 'contact' : contact_dict, 'poutcome' : pout_dict,\n",
      "                          'day_of_week' : day_dict,\n",
      "                          'default': default_dict, 'housing': housing_dict, 'loan' :loan_dict}\n",
      "    else:\n",
      "        edu_dict = { 'primary' : 0, 'secondary' : 1, 'tertiary' : 2, 'unknown' : 3 }\n",
      "        dict_of_dicts = { 'job' : job_dict, 'month' : month_dict, 'marital' : marital_dict,\n",
      "                          'education' : edu_dict, 'contact' : contact_dict, 'poutcome' : pout_dict,\n",
      "                          'default': default_dict, 'housing': housing_dict, 'loan' :loan_dict}\n",
      "\n",
      "    for label,dict in dict_of_dicts.iteritems():\n",
      "        for idx in range(len( bank_df[label] )):\n",
      "            if not bank_df[label][idx] in dict:\n",
      "                print bank_df[label][idx]\n",
      "            else:\n",
      "                bank_df[label][idx] = dict[ bank_df[label][idx] ]\n",
      "\n",
      "    bank_df = bank_df.convert_objects(convert_numeric=True)\n",
      "    bank_df.info()\n",
      "\n",
      "    if add_set:\n",
      "        bank_matrix = bank_df.as_matrix(['age','duration','campaign','pdays','previous','emp.var.rate',\n",
      "                                         'cons.price.idx','cons.conf.idx','euribor3m','nr.employed'])\n",
      "    else:\n",
      "        bank_matrix = bank_df.as_matrix(['age','balance','day','duration','campaign','pdays','previous'])\n",
      "    bank_target = bank_df.as_matrix(['y'])\n",
      "    bank_target = bank_target[:,0]\n",
      "\n",
      "    enc = preprocessing.OneHotEncoder(n_values='auto', categorical_features='all', dtype=int, sparse=False)\n",
      "    #enc.fit(bank_matrix).transform(bank_matrix)\n",
      "    for label,dict in dict_of_dicts.iteritems():\n",
      "        if label != 'month':\n",
      "            pre_matrix = bank_df.as_matrix( [label] )\n",
      "            new_matrix = enc.fit(pre_matrix).transform(pre_matrix)\n",
      "            #print new_matrix\n",
      "            #print len(new_matrix)\n",
      "            bank_matrix = np.append(bank_matrix, new_matrix, axis=1)\n",
      "\n",
      "    return bank_matrix, bank_target\n"
     ],
     "language": "python",
     "metadata": {},
     "outputs": [],
     "prompt_number": 2
    },
    {
     "cell_type": "code",
     "collapsed": false,
     "input": [
      "def cross_validate(X, y, classifier, k_fold) :\n",
      "\n",
      "    # derive a set of (random) training and testing indices\n",
      "    k_fold_indices = KFold(len(X), n_folds=k_fold,\n",
      "                           shuffle=True, random_state=0)\n",
      "\n",
      "    k_score_total = 0\n",
      "    # for each training and testing slices run the classifier, and score the results\n",
      "    for train_slice, test_slice in k_fold_indices :\n",
      "\n",
      "        model = classifier(X[ train_slice  ],\n",
      "                         y[ train_slice  ])\n",
      "\n",
      "        k_score = model.score(X[ test_slice ],\n",
      "                              y[ test_slice ])\n",
      "\n",
      "        k_score_total += k_score\n",
      "\n",
      "    # return the average accuracy\n",
      "    return k_score_total/k_fold\n"
     ],
     "language": "python",
     "metadata": {},
     "outputs": [],
     "prompt_number": 3
    },
    {
     "cell_type": "code",
     "collapsed": false,
     "input": [
      "bank_csv = pd.read_csv( \"bank-full.csv\", \";\" )\n",
      "\n",
      "data, target = turn_data_into_matrix( bank_csv, False )\n",
      "\n",
      "model = tree.DecisionTreeClassifier(random_state=0).fit\n",
      "print (\"\\nDecision Tree CV Score: {0}\".format(cross_validate(data, target, model,10)))\n",
      "\n",
      "model_rf = RandomForestClassifier(random_state=0).fit\n",
      "print (\"Random Forest CV Score: {0}\".format(cross_validate(data, target, model_rf,10)))"
     ],
     "language": "python",
     "metadata": {},
     "outputs": [
      {
       "output_type": "stream",
       "stream": "stdout",
       "text": [
        "<class 'pandas.core.frame.DataFrame'>\n",
        "Int64Index: 45211 entries, 0 to 45210\n",
        "Data columns (total 17 columns):\n",
        "age          45211 non-null int64\n",
        "job          45211 non-null int64\n",
        "marital      45211 non-null int64\n",
        "education    45211 non-null int64\n",
        "default      45211 non-null int64\n",
        "balance      45211 non-null int64\n",
        "housing      45211 non-null int64\n",
        "loan         45211 non-null int64\n",
        "contact      45211 non-null int64\n",
        "day          45211 non-null int64\n",
        "month        45211 non-null int64\n",
        "duration     45211 non-null int64\n",
        "campaign     45211 non-null int64\n",
        "pdays        45211 non-null int64\n",
        "previous     45211 non-null int64\n",
        "poutcome     45211 non-null int64\n",
        "y            45211 non-null int64\n",
        "dtypes: int64(17)\n",
        "Decision Tree CV Score: 0.859038639379"
       ]
      },
      {
       "output_type": "stream",
       "stream": "stdout",
       "text": [
        "\n",
        "Random Forest CV Score: 0.895622722249"
       ]
      },
      {
       "output_type": "stream",
       "stream": "stdout",
       "text": [
        "\n"
       ]
      }
     ],
     "prompt_number": 4
    },
    {
     "cell_type": "code",
     "collapsed": false,
     "input": [
      "bank_add_csv = pd.read_csv( \"bank-additional-full.csv\", \";\" )\n",
      "#bank_add_csv.info()\n",
      "\n",
      "data_add, target_add = turn_data_into_matrix( bank_add_csv , True)\n",
      "\n",
      "model_add = tree.DecisionTreeClassifier(random_state=0).fit\n",
      "print (\"\\nDecision Tree CV Score: {0}\".format(cross_validate(data_add, target_add, model_add,10)))\n",
      "\n",
      "model_add_rf = RandomForestClassifier(random_state=0).fit\n",
      "print (\"Random Forest CV Score: {0}\".format(cross_validate(data_add, target_add, model_add_rf,10)))"
     ],
     "language": "python",
     "metadata": {},
     "outputs": [
      {
       "output_type": "stream",
       "stream": "stdout",
       "text": [
        "<class 'pandas.core.frame.DataFrame'>\n",
        "Int64Index: 41188 entries, 0 to 41187\n",
        "Data columns (total 21 columns):\n",
        "age               41188 non-null int64\n",
        "job               41188 non-null int64\n",
        "marital           41188 non-null int64\n",
        "education         41188 non-null int64\n",
        "default           41188 non-null int64\n",
        "housing           41188 non-null int64\n",
        "loan              41188 non-null int64\n",
        "contact           41188 non-null int64\n",
        "month             41188 non-null int64\n",
        "day_of_week       41188 non-null int64\n",
        "duration          41188 non-null int64\n",
        "campaign          41188 non-null int64\n",
        "pdays             41188 non-null int64\n",
        "previous          41188 non-null int64\n",
        "poutcome          41188 non-null int64\n",
        "emp.var.rate      41188 non-null float64\n",
        "cons.price.idx    41188 non-null float64\n",
        "cons.conf.idx     41188 non-null float64\n",
        "euribor3m         41188 non-null float64\n",
        "nr.employed       41188 non-null float64\n",
        "y                 41188 non-null int64\n",
        "dtypes: float64(5), int64(16)\n",
        "Decision Tree CV Score: 0.889579574205"
       ]
      },
      {
       "output_type": "stream",
       "stream": "stdout",
       "text": [
        "\n",
        "Random Forest CV Score: 0.908759994817"
       ]
      },
      {
       "output_type": "stream",
       "stream": "stdout",
       "text": [
        "\n"
       ]
      }
     ],
     "prompt_number": 8
    },
    {
     "cell_type": "code",
     "collapsed": false,
     "input": [],
     "language": "python",
     "metadata": {},
     "outputs": [],
     "prompt_number": 6
    }
   ],
   "metadata": {}
  }
 ]
}