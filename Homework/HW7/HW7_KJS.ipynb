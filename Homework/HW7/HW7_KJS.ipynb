{
 "metadata": {
  "name": "",
  "signature": "sha256:56dee9fed7172a5dd536b0fbaafbbe4f669e949e9e9a4c97da7e6e82ae9a6187"
 },
 "nbformat": 3,
 "nbformat_minor": 0,
 "worksheets": [
  {
   "cells": [
    {
     "cell_type": "code",
     "collapsed": false,
     "input": [
      "import pandas as pd\n",
      "import numpy as np\n",
      "from matplotlib import pyplot as plt \n",
      "from sklearn.linear_model import LogisticRegression\n",
      "from sklearn.cross_validation import KFold\n",
      "from sklearn.metrics import roc_curve\n",
      "from sklearn.metrics import auc \n",
      "from sklearn.cross_validation import train_test_split\n",
      "from sklearn import preprocessing\n",
      "from sklearn import tree\n",
      "from sklearn.ensemble import RandomForestClassifier\n",
      "%matplotlib inline"
     ],
     "language": "python",
     "metadata": {},
     "outputs": [],
     "prompt_number": 1
    },
    {
     "cell_type": "code",
     "collapsed": false,
     "input": [
      "column_list = [ 'class',\n",
      "                'Alcohol',\n",
      "                'Malic acid',\n",
      "                'Ash', \n",
      "                'Alcalinity of ash',\n",
      "                'Magnesium',\n",
      "                'Total phenols',\n",
      "                'Flavanoids',\n",
      "                'Nonflavanoid phenols',\n",
      "                'Proanthocyanins',\n",
      "                'Color intensity',\n",
      "                'Hue',\n",
      "                'OD280/OD315 of diluted wines',\n",
      "                'Proline']  \n",
      "\n",
      "wine_data = pd.read_csv( \"wine.data\", \n",
      "         sep=',', \n",
      "         dialect=None, \n",
      "         compression=None, \n",
      "         doublequote=True, \n",
      "         escapechar=None, \n",
      "         quotechar='\"', \n",
      "         quoting=0, \n",
      "         skipinitialspace=False, \n",
      "         lineterminator=None, \n",
      "         header='infer', \n",
      "         index_col=None, \n",
      "         names=column_list)\n",
      "wine_data.head()"
     ],
     "language": "python",
     "metadata": {},
     "outputs": [
      {
       "html": [
        "<div style=\"max-height:1000px;max-width:1500px;overflow:auto;\">\n",
        "<table border=\"1\" class=\"dataframe\">\n",
        "  <thead>\n",
        "    <tr style=\"text-align: right;\">\n",
        "      <th></th>\n",
        "      <th>class</th>\n",
        "      <th>Alcohol</th>\n",
        "      <th>Malic acid</th>\n",
        "      <th>Ash</th>\n",
        "      <th>Alcalinity of ash</th>\n",
        "      <th>Magnesium</th>\n",
        "      <th>Total phenols</th>\n",
        "      <th>Flavanoids</th>\n",
        "      <th>Nonflavanoid phenols</th>\n",
        "      <th>Proanthocyanins</th>\n",
        "      <th>Color intensity</th>\n",
        "      <th>Hue</th>\n",
        "      <th>OD280/OD315 of diluted wines</th>\n",
        "      <th>Proline</th>\n",
        "    </tr>\n",
        "  </thead>\n",
        "  <tbody>\n",
        "    <tr>\n",
        "      <th>0</th>\n",
        "      <td> 1</td>\n",
        "      <td> 14.23</td>\n",
        "      <td> 1.71</td>\n",
        "      <td> 2.43</td>\n",
        "      <td> 15.6</td>\n",
        "      <td> 127</td>\n",
        "      <td> 2.80</td>\n",
        "      <td> 3.06</td>\n",
        "      <td> 0.28</td>\n",
        "      <td> 2.29</td>\n",
        "      <td> 5.64</td>\n",
        "      <td> 1.04</td>\n",
        "      <td> 3.92</td>\n",
        "      <td> 1065</td>\n",
        "    </tr>\n",
        "    <tr>\n",
        "      <th>1</th>\n",
        "      <td> 1</td>\n",
        "      <td> 13.20</td>\n",
        "      <td> 1.78</td>\n",
        "      <td> 2.14</td>\n",
        "      <td> 11.2</td>\n",
        "      <td> 100</td>\n",
        "      <td> 2.65</td>\n",
        "      <td> 2.76</td>\n",
        "      <td> 0.26</td>\n",
        "      <td> 1.28</td>\n",
        "      <td> 4.38</td>\n",
        "      <td> 1.05</td>\n",
        "      <td> 3.40</td>\n",
        "      <td> 1050</td>\n",
        "    </tr>\n",
        "    <tr>\n",
        "      <th>2</th>\n",
        "      <td> 1</td>\n",
        "      <td> 13.16</td>\n",
        "      <td> 2.36</td>\n",
        "      <td> 2.67</td>\n",
        "      <td> 18.6</td>\n",
        "      <td> 101</td>\n",
        "      <td> 2.80</td>\n",
        "      <td> 3.24</td>\n",
        "      <td> 0.30</td>\n",
        "      <td> 2.81</td>\n",
        "      <td> 5.68</td>\n",
        "      <td> 1.03</td>\n",
        "      <td> 3.17</td>\n",
        "      <td> 1185</td>\n",
        "    </tr>\n",
        "    <tr>\n",
        "      <th>3</th>\n",
        "      <td> 1</td>\n",
        "      <td> 14.37</td>\n",
        "      <td> 1.95</td>\n",
        "      <td> 2.50</td>\n",
        "      <td> 16.8</td>\n",
        "      <td> 113</td>\n",
        "      <td> 3.85</td>\n",
        "      <td> 3.49</td>\n",
        "      <td> 0.24</td>\n",
        "      <td> 2.18</td>\n",
        "      <td> 7.80</td>\n",
        "      <td> 0.86</td>\n",
        "      <td> 3.45</td>\n",
        "      <td> 1480</td>\n",
        "    </tr>\n",
        "    <tr>\n",
        "      <th>4</th>\n",
        "      <td> 1</td>\n",
        "      <td> 13.24</td>\n",
        "      <td> 2.59</td>\n",
        "      <td> 2.87</td>\n",
        "      <td> 21.0</td>\n",
        "      <td> 118</td>\n",
        "      <td> 2.80</td>\n",
        "      <td> 2.69</td>\n",
        "      <td> 0.39</td>\n",
        "      <td> 1.82</td>\n",
        "      <td> 4.32</td>\n",
        "      <td> 1.04</td>\n",
        "      <td> 2.93</td>\n",
        "      <td>  735</td>\n",
        "    </tr>\n",
        "  </tbody>\n",
        "</table>\n",
        "</div>"
       ],
       "metadata": {},
       "output_type": "pyout",
       "prompt_number": 2,
       "text": [
        "   class  Alcohol  Malic acid   Ash  Alcalinity of ash  Magnesium  \\\n",
        "0      1    14.23        1.71  2.43               15.6        127   \n",
        "1      1    13.20        1.78  2.14               11.2        100   \n",
        "2      1    13.16        2.36  2.67               18.6        101   \n",
        "3      1    14.37        1.95  2.50               16.8        113   \n",
        "4      1    13.24        2.59  2.87               21.0        118   \n",
        "\n",
        "   Total phenols  Flavanoids  Nonflavanoid phenols  Proanthocyanins  \\\n",
        "0           2.80        3.06                  0.28             2.29   \n",
        "1           2.65        2.76                  0.26             1.28   \n",
        "2           2.80        3.24                  0.30             2.81   \n",
        "3           3.85        3.49                  0.24             2.18   \n",
        "4           2.80        2.69                  0.39             1.82   \n",
        "\n",
        "   Color intensity   Hue  OD280/OD315 of diluted wines  Proline  \n",
        "0             5.64  1.04                          3.92     1065  \n",
        "1             4.38  1.05                          3.40     1050  \n",
        "2             5.68  1.03                          3.17     1185  \n",
        "3             7.80  0.86                          3.45     1480  \n",
        "4             4.32  1.04                          2.93      735  "
       ]
      }
     ],
     "prompt_number": 2
    },
    {
     "cell_type": "code",
     "collapsed": false,
     "input": [
      "data = wine_data.drop(['class'], axis=1).as_matrix()\n",
      "target = wine_data['class'].as_matrix()"
     ],
     "language": "python",
     "metadata": {},
     "outputs": [],
     "prompt_number": 3
    },
    {
     "cell_type": "code",
     "collapsed": false,
     "input": [
      "def cross_validate(X, y, classifier, k_fold) :\n",
      "\n",
      "    # derive a set of (random) training and testing indices\n",
      "    k_fold_indices = KFold(len(X), n_folds=k_fold,\n",
      "                           shuffle=True, random_state=0)\n",
      "\n",
      "    k_score_total = 0\n",
      "    # for each training and testing slices run the classifier, and score the results\n",
      "    for train_slice, test_slice in k_fold_indices :\n",
      "\n",
      "        model = classifier(X[ train_slice  ],\n",
      "                         y[ train_slice  ])\n",
      "\n",
      "        k_score = model.score(X[ test_slice ],\n",
      "                              y[ test_slice ])\n",
      "\n",
      "        k_score_total += k_score\n",
      "\n",
      "    # return the average accuracy\n",
      "    return k_score_total/k_fold"
     ],
     "language": "python",
     "metadata": {},
     "outputs": [],
     "prompt_number": 4
    },
    {
     "cell_type": "heading",
     "level": 3,
     "metadata": {},
     "source": [
      "1.) The SVC function makes a model per class, therefore, I don't have to do break up the classes into binary values."
     ]
    },
    {
     "cell_type": "heading",
     "level": 3,
     "metadata": {},
     "source": [
      "2.) Cross Validate Linear SVC"
     ]
    },
    {
     "cell_type": "code",
     "collapsed": false,
     "input": [
      "from sklearn import svm\n",
      "\n",
      "model = svm.SVC(C=1.0, kernel='linear').fit\n",
      "cross_validate(data, target, model, 10)"
     ],
     "language": "python",
     "metadata": {},
     "outputs": [
      {
       "metadata": {},
       "output_type": "pyout",
       "prompt_number": 5,
       "text": [
        "0.95490196078431366"
       ]
      }
     ],
     "prompt_number": 5
    },
    {
     "cell_type": "heading",
     "level": 3,
     "metadata": {},
     "source": [
      "3.) I found that I couldn't normalize the data using Normalizer() without using Scale first because the default axis normalizes each sample and not across features (axis=1).  Therefore, I scaled and normalized."
     ]
    },
    {
     "cell_type": "heading",
     "level": 3,
     "metadata": {},
     "source": [
      "4.) Repeated classification with normalized data below"
     ]
    },
    {
     "cell_type": "code",
     "collapsed": false,
     "input": [
      "from sklearn import preprocessing\n",
      "data_scaled = preprocessing.scale(data)\n",
      "data_normalized = preprocessing.normalize(data_scaled, norm='l2')\n",
      "cross_validate(data_normalized, target, model, 10)\n"
     ],
     "language": "python",
     "metadata": {},
     "outputs": [
      {
       "metadata": {},
       "output_type": "pyout",
       "prompt_number": 6,
       "text": [
        "0.97745098039215694"
       ]
      }
     ],
     "prompt_number": 6
    },
    {
     "cell_type": "heading",
     "level": 3,
     "metadata": {},
     "source": [
      "5.) Used a pipeline for normalization and classification"
     ]
    },
    {
     "cell_type": "code",
     "collapsed": false,
     "input": [
      "from sklearn.pipeline import Pipeline\n",
      "estimators = [('scale', preprocessing.StandardScaler()), \n",
      "              ('normalize_data', preprocessing.Normalizer(norm='l2', copy=True) ), \n",
      "              ('svm', svm.SVC(C=1.0,kernel='linear'))]\n",
      "normalized_svm = Pipeline(estimators)\n",
      "cross_validate(data, target, normalized_svm.fit, 10)"
     ],
     "language": "python",
     "metadata": {},
     "outputs": [
      {
       "metadata": {},
       "output_type": "pyout",
       "prompt_number": 7,
       "text": [
        "0.97745098039215694"
       ]
      }
     ],
     "prompt_number": 7
    },
    {
     "cell_type": "heading",
     "level": 3,
     "metadata": {},
     "source": [
      "6.) Tried different values of C and Kernel Function"
     ]
    },
    {
     "cell_type": "code",
     "collapsed": false,
     "input": [
      "estimators = [('scale', preprocessing.StandardScaler()), \n",
      "              ('normalize_data', preprocessing.Normalizer(norm='l2', copy=True) ), \n",
      "              ('svm', svm.SVC(C=2.0,kernel='linear'))]\n",
      "normalized_svm = Pipeline(estimators)\n",
      "cross_validate(data, target, normalized_svm.fit, 10)"
     ],
     "language": "python",
     "metadata": {},
     "outputs": [
      {
       "metadata": {},
       "output_type": "pyout",
       "prompt_number": 8,
       "text": [
        "0.98300653594771248"
       ]
      }
     ],
     "prompt_number": 8
    },
    {
     "cell_type": "code",
     "collapsed": false,
     "input": [
      "estimators = [('scale', preprocessing.StandardScaler()), \n",
      "              ('normalize_data', preprocessing.Normalizer(norm='l2', copy=True) ), \n",
      "              ('svm', svm.SVC(C=3.0,kernel='linear'))]\n",
      "normalized_svm = Pipeline(estimators)\n",
      "cross_validate(data, target, normalized_svm.fit, 10)"
     ],
     "language": "python",
     "metadata": {},
     "outputs": [
      {
       "metadata": {},
       "output_type": "pyout",
       "prompt_number": 9,
       "text": [
        "0.97189542483660141"
       ]
      }
     ],
     "prompt_number": 9
    },
    {
     "cell_type": "code",
     "collapsed": false,
     "input": [
      "estimators = [('scale', preprocessing.StandardScaler()), \n",
      "              ('normalize_data', preprocessing.Normalizer(norm='l2', copy=True) ), \n",
      "              ('svm', svm.SVC(C=2.0,kernel='rbf'))]\n",
      "normalized_svm = Pipeline(estimators)\n",
      "cross_validate(data, target, normalized_svm.fit, 10)"
     ],
     "language": "python",
     "metadata": {},
     "outputs": [
      {
       "metadata": {},
       "output_type": "pyout",
       "prompt_number": 10,
       "text": [
        "0.98333333333333339"
       ]
      }
     ],
     "prompt_number": 10
    },
    {
     "cell_type": "heading",
     "level": 3,
     "metadata": {},
     "source": [
      "7.) Used GridSearchCV to search across multiple values of C, Gamma, and Kernel to find an optimal value"
     ]
    },
    {
     "cell_type": "code",
     "collapsed": false,
     "input": [
      "from sklearn.grid_search import GridSearchCV\n",
      "\n",
      "param_grid = [\n",
      "  {'C': [1, 2, 3, 4, 5, 10, 100, 1000], 'gamma': [1.0, 0, 0.01, 0.001, 0.0001], 'kernel': ['rbf', 'linear', 'poly']},\n",
      " ]\n",
      "\n",
      "from sklearn import preprocessing\n",
      "data_scaled = preprocessing.scale(data)\n",
      "data_normalized = preprocessing.normalize(data_scaled, norm='l2')\n",
      "grid_model = GridSearchCV(svm.SVC(), param_grid, cv=10)\n",
      "grid_model.fit(data_normalized, target)\n",
      "\n",
      "print grid_model.grid_scores_\n",
      "print grid_model.best_score_\n",
      "print grid_model.best_estimator_\n",
      "\n"
     ],
     "language": "python",
     "metadata": {},
     "outputs": [
      {
       "output_type": "stream",
       "stream": "stdout",
       "text": [
        "[mean: 0.98315, std: 0.02502, params: {'kernel': 'rbf', 'C': 1, 'gamma': 1.0}, mean: 0.98315, std: 0.02502, params: {'kernel': 'linear', 'C': 1, 'gamma': 1.0}, mean: 0.98876, std: 0.02165, params: {'kernel': 'poly', 'C': 1, 'gamma': 1.0}, mean: 0.97191, std: 0.02785, params: {'kernel': 'rbf', 'C': 1, 'gamma': 0}, mean: 0.98315, std: 0.02502, params: {'kernel': 'linear', 'C': 1, 'gamma': 0}, mean: 0.39888, std: 0.01687, params: {'kernel': 'poly', 'C': 1, 'gamma': 0}, mean: 0.80899, std: 0.10736, params: {'kernel': 'rbf', 'C': 1, 'gamma': 0.01}, mean: 0.98315, std: 0.02502, params: {'kernel': 'linear', 'C': 1, 'gamma': 0.01}, mean: 0.39888, std: 0.01687, params: {'kernel': 'poly', 'C': 1, 'gamma': 0.01}, mean: 0.39888, std: 0.01687, params: {'kernel': 'rbf', 'C': 1, 'gamma': 0.001}, mean: 0.98315, std: 0.02502, params: {'kernel': 'linear', 'C': 1, 'gamma': 0.001}, mean: 0.39888, std: 0.01687, params: {'kernel': 'poly', 'C': 1, 'gamma': 0.001}, mean: 0.39888, std: 0.01687, params: {'kernel': 'rbf', 'C': 1, 'gamma': 0.0001}, mean: 0.98315, std: 0.02502, params: {'kernel': 'linear', 'C': 1, 'gamma': 0.0001}, mean: 0.39888, std: 0.01687, params: {'kernel': 'poly', 'C': 1, 'gamma': 0.0001}, mean: 0.98315, std: 0.02502, params: {'kernel': 'rbf', 'C': 2, 'gamma': 1.0}, mean: 0.97753, std: 0.03546, params: {'kernel': 'linear', 'C': 2, 'gamma': 1.0}, mean: 0.97191, std: 0.03706, params: {'kernel': 'poly', 'C': 2, 'gamma': 1.0}, mean: 0.98315, std: 0.02502, params: {'kernel': 'rbf', 'C': 2, 'gamma': 0}, mean: 0.97753, std: 0.03546, params: {'kernel': 'linear', 'C': 2, 'gamma': 0}, mean: 0.39888, std: 0.01687, params: {'kernel': 'poly', 'C': 2, 'gamma': 0}, mean: 0.97191, std: 0.02785, params: {'kernel': 'rbf', 'C': 2, 'gamma': 0.01}, mean: 0.97753, std: 0.03546, params: {'kernel': 'linear', 'C': 2, 'gamma': 0.01}, mean: 0.39888, std: 0.01687, params: {'kernel': 'poly', 'C': 2, 'gamma': 0.01}, mean: 0.39888, std: 0.01687, params: {'kernel': 'rbf', 'C': 2, 'gamma': 0.001}, mean: 0.97753, std: 0.03546, params: {'kernel': 'linear', 'C': 2, 'gamma': 0.001}, mean: 0.39888, std: 0.01687, params: {'kernel': 'poly', 'C': 2, 'gamma': 0.001}, mean: 0.39888, std: 0.01687, params: {'kernel': 'rbf', 'C': 2, 'gamma': 0.0001}, mean: 0.97753, std: 0.03546, params: {'kernel': 'linear', 'C': 2, 'gamma': 0.0001}, mean: 0.39888, std: 0.01687, params: {'kernel': 'poly', 'C': 2, 'gamma': 0.0001}, mean: 0.98315, std: 0.02502, params: {'kernel': 'rbf', 'C': 3, 'gamma': 1.0}, mean: 0.98315, std: 0.02502, params: {'kernel': 'linear', 'C': 3, 'gamma': 1.0}, mean: 0.97191, std: 0.03706, params: {'kernel': 'poly', 'C': 3, 'gamma': 1.0}, mean: 0.98876, std: 0.02222, params: {'kernel': 'rbf', 'C': 3, 'gamma': 0}, mean: 0.98315, std: 0.02502, params: {'kernel': 'linear', 'C': 3, 'gamma': 0}, mean: 0.39888, std: 0.01687, params: {'kernel': 'poly', 'C': 3, 'gamma': 0}, mean: 0.97191, std: 0.02785, params: {'kernel': 'rbf', 'C': 3, 'gamma': 0.01}, mean: 0.98315, std: 0.02502, params: {'kernel': 'linear', 'C': 3, 'gamma': 0.01}, mean: 0.39888, std: 0.01687, params: {'kernel': 'poly', 'C': 3, 'gamma': 0.01}, mean: 0.39888, std: 0.01687, params: {'kernel': 'rbf', 'C': 3, 'gamma': 0.001}, mean: 0.98315, std: 0.02502, params: {'kernel': 'linear', 'C': 3, 'gamma': 0.001}, mean: 0.39888, std: 0.01687, params: {'kernel': 'poly', 'C': 3, 'gamma': 0.001}, mean: 0.39888, std: 0.01687, params: {'kernel': 'rbf', 'C': 3, 'gamma': 0.0001}, mean: 0.98315, std: 0.02502, params: {'kernel': 'linear', 'C': 3, 'gamma': 0.0001}, mean: 0.39888, std: 0.01687, params: {'kernel': 'poly', 'C': 3, 'gamma': 0.0001}, mean: 0.98315, std: 0.02502, params: {'kernel': 'rbf', 'C': 4, 'gamma': 1.0}, mean: 0.97753, std: 0.02687, params: {'kernel': 'linear', 'C': 4, 'gamma': 1.0}, mean: 0.97191, std: 0.03706, params: {'kernel': 'poly', 'C': 4, 'gamma': 1.0}, mean: 0.98315, std: 0.02502, params: {'kernel': 'rbf', 'C': 4, 'gamma': 0}, mean: 0.97753, std: 0.02687, params: {'kernel': 'linear', 'C': 4, 'gamma': 0}, mean: 0.39888, std: 0.01687, params: {'kernel': 'poly', 'C': 4, 'gamma': 0}, mean: 0.97191, std: 0.02785, params: {'kernel': 'rbf', 'C': 4, 'gamma': 0.01}, mean: 0.97753, std: 0.02687, params: {'kernel': 'linear', 'C': 4, 'gamma': 0.01}, mean: 0.39888, std: 0.01687, params: {'kernel': 'poly', 'C': 4, 'gamma': 0.01}, mean: 0.39888, std: 0.01687, params: {'kernel': 'rbf', 'C': 4, 'gamma': 0.001}, mean: 0.97753, std: 0.02687, params: {'kernel': 'linear', 'C': 4, 'gamma': 0.001}, mean: 0.39888, std: 0.01687, params: {'kernel': 'poly', 'C': 4, 'gamma': 0.001}, mean: 0.39888, std: 0.01687, params: {'kernel': 'rbf', 'C': 4, 'gamma': 0.0001}, mean: 0.97753, std: 0.02687, params: {'kernel': 'linear', 'C': 4, 'gamma': 0.0001}, mean: 0.39888, std: 0.01687, params: {'kernel': 'poly', 'C': 4, 'gamma': 0.0001}, mean: 0.98315, std: 0.02502, params: {'kernel': 'rbf', 'C': 5, 'gamma': 1.0}, mean: 0.96629, std: 0.03564, params: {'kernel': 'linear', 'C': 5, 'gamma': 1.0}, mean: 0.97191, std: 0.03706, params: {'kernel': 'poly', 'C': 5, 'gamma': 1.0}, mean: 0.98315, std: 0.02502, params: {'kernel': 'rbf', 'C': 5, 'gamma': 0}, mean: 0.96629, std: 0.03564, params: {'kernel': 'linear', 'C': 5, 'gamma': 0}, mean: 0.39888, std: 0.01687, params: {'kernel': 'poly', 'C': 5, 'gamma': 0}, mean: 0.97753, std: 0.02729, params: {'kernel': 'rbf', 'C': 5, 'gamma': 0.01}, mean: 0.96629, std: 0.03564, params: {'kernel': 'linear', 'C': 5, 'gamma': 0.01}, mean: 0.39888, std: 0.01687, params: {'kernel': 'poly', 'C': 5, 'gamma': 0.01}, mean: 0.39888, std: 0.01687, params: {'kernel': 'rbf', 'C': 5, 'gamma': 0.001}, mean: 0.96629, std: 0.03564, params: {'kernel': 'linear', 'C': 5, 'gamma': 0.001}, mean: 0.39888, std: 0.01687, params: {'kernel': 'poly', 'C': 5, 'gamma': 0.001}, mean: 0.39888, std: 0.01687, params: {'kernel': 'rbf', 'C': 5, 'gamma': 0.0001}, mean: 0.96629, std: 0.03564, params: {'kernel': 'linear', 'C': 5, 'gamma': 0.0001}, mean: 0.39888, std: 0.01687, params: {'kernel': 'poly', 'C': 5, 'gamma': 0.0001}, mean: 0.98315, std: 0.02502, params: {'kernel': 'rbf', 'C': 10, 'gamma': 1.0}, mean: 0.97191, std: 0.02750, params: {'kernel': 'linear', 'C': 10, 'gamma': 1.0}, mean: 0.97191, std: 0.03706, params: {'kernel': 'poly', 'C': 10, 'gamma': 1.0}, mean: 0.98315, std: 0.02502, params: {'kernel': 'rbf', 'C': 10, 'gamma': 0}, mean: 0.97191, std: 0.02750, params: {'kernel': 'linear', 'C': 10, 'gamma': 0}, mean: 0.39888, std: 0.01687, params: {'kernel': 'poly', 'C': 10, 'gamma': 0}, mean: 0.97191, std: 0.02785, params: {'kernel': 'rbf', 'C': 10, 'gamma': 0.01}, mean: 0.97191, std: 0.02750, params: {'kernel': 'linear', 'C': 10, 'gamma': 0.01}, mean: 0.39888, std: 0.01687, params: {'kernel': 'poly', 'C': 10, 'gamma': 0.01}, mean: 0.82022, std: 0.10010, params: {'kernel': 'rbf', 'C': 10, 'gamma': 0.001}, mean: 0.97191, std: 0.02750, params: {'kernel': 'linear', 'C': 10, 'gamma': 0.001}, mean: 0.39888, std: 0.01687, params: {'kernel': 'poly', 'C': 10, 'gamma': 0.001}, mean: 0.39888, std: 0.01687, params: {'kernel': 'rbf', 'C': 10, 'gamma': 0.0001}, mean: 0.97191, std: 0.02750, params: {'kernel': 'linear', 'C': 10, 'gamma': 0.0001}, mean: 0.39888, std: 0.01687, params: {'kernel': 'poly', 'C': 10, 'gamma': 0.0001}, mean: 0.98315, std: 0.02502, params: {'kernel': 'rbf', 'C': 100, 'gamma': 1.0}, mean: 0.96629, std: 0.02699, params: {'kernel': 'linear', 'C': 100, 'gamma': 1.0}, mean: 0.97191, std: 0.03706, params: {'kernel': 'poly', 'C': 100, 'gamma': 1.0}, mean: 0.96629, std: 0.03564, params: {'kernel': 'rbf', 'C': 100, 'gamma': 0}, mean: 0.96629, std: 0.02699, params: {'kernel': 'linear', 'C': 100, 'gamma': 0}, mean: 0.66854, std: 0.10168, params: {'kernel': 'poly', 'C': 100, 'gamma': 0}, mean: 0.97753, std: 0.03546, params: {'kernel': 'rbf', 'C': 100, 'gamma': 0.01}, mean: 0.96629, std: 0.02699, params: {'kernel': 'linear', 'C': 100, 'gamma': 0.01}, mean: 0.39888, std: 0.01687, params: {'kernel': 'poly', 'C': 100, 'gamma': 0.01}, mean: 0.97191, std: 0.02785, params: {'kernel': 'rbf', 'C': 100, 'gamma': 0.001}, mean: 0.96629, std: 0.02699, params: {'kernel': 'linear', 'C': 100, 'gamma': 0.001}, mean: 0.39888, std: 0.01687, params: {'kernel': 'poly', 'C': 100, 'gamma': 0.001}, mean: 0.82022, std: 0.10010, params: {'kernel': 'rbf', 'C': 100, 'gamma': 0.0001}, mean: 0.96629, std: 0.02699, params: {'kernel': 'linear', 'C': 100, 'gamma': 0.0001}, mean: 0.39888, std: 0.01687, params: {'kernel': 'poly', 'C': 100, 'gamma': 0.0001}, mean: 0.98315, std: 0.02502, params: {'kernel': 'rbf', 'C': 1000, 'gamma': 1.0}, mean: 0.96629, std: 0.02699, params: {'kernel': 'linear', 'C': 1000, 'gamma': 1.0}, mean: 0.97191, std: 0.03706, params: {'kernel': 'poly', 'C': 1000, 'gamma': 1.0}, mean: 0.96629, std: 0.03564, params: {'kernel': 'rbf', 'C': 1000, 'gamma': 0}, mean: 0.96629, std: 0.02699, params: {'kernel': 'linear', 'C': 1000, 'gamma': 0}, mean: 0.97191, std: 0.02750, params: {'kernel': 'poly', 'C': 1000, 'gamma': 0}, mean: 0.96629, std: 0.02699, params: {'kernel': 'rbf', 'C': 1000, 'gamma': 0.01}, mean: 0.96629, std: 0.02699, params: {'kernel': 'linear', 'C': 1000, 'gamma': 0.01}, mean: 0.39888, std: 0.01687, params: {'kernel': 'poly', 'C': 1000, 'gamma': 0.01}, mean: 0.97753, std: 0.03546, params: {'kernel': 'rbf', 'C': 1000, 'gamma': 0.001}, mean: 0.96629, std: 0.02699, params: {'kernel': 'linear', 'C': 1000, 'gamma': 0.001}, mean: 0.39888, std: 0.01687, params: {'kernel': 'poly', 'C': 1000, 'gamma': 0.001}, mean: 0.97191, std: 0.02785, params: {'kernel': 'rbf', 'C': 1000, 'gamma': 0.0001}, mean: 0.96629, std: 0.02699, params: {'kernel': 'linear', 'C': 1000, 'gamma': 0.0001}, mean: 0.39888, std: 0.01687, params: {'kernel': 'poly', 'C': 1000, 'gamma': 0.0001}]\n",
        "0.988764044944\n",
        "SVC(C=1, cache_size=200, class_weight=None, coef0=0.0, degree=3, gamma=1.0,\n",
        "  kernel='poly', max_iter=-1, probability=False, random_state=None,\n",
        "  shrinking=True, tol=0.001, verbose=False)\n"
       ]
      }
     ],
     "prompt_number": 14
    },
    {
     "cell_type": "code",
     "collapsed": false,
     "input": [],
     "language": "python",
     "metadata": {},
     "outputs": [],
     "prompt_number": 11
    },
    {
     "cell_type": "code",
     "collapsed": false,
     "input": [],
     "language": "python",
     "metadata": {},
     "outputs": [],
     "prompt_number": 11
    }
   ],
   "metadata": {}
  }
 ]
}